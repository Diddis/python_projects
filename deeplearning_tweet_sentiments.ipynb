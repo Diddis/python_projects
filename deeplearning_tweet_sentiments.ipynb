{
  "nbformat": 4,
  "nbformat_minor": 0,
  "metadata": {
    "colab": {
      "provenance": [],
      "authorship_tag": "ABX9TyOuu5wYgeDfJsOiElfscfdx"
    },
    "kernelspec": {
      "name": "python3",
      "display_name": "Python 3"
    },
    "accelerator": "GPU"
  },
  "cells": [
    {
      "cell_type": "markdown",
      "metadata": {
        "id": "UR5KpBRNb1I2"
      },
      "source": [
        "# Tweet Sentiment Extraction\n",
        "\n",
        "[*Kaggle competition*](https://www.kaggle.com/c/tweet-sentiment-extraction/overview/description)\n",
        "\n",
        "**Task:** identify the words and phrases associated with good/neutral/bad sentiments of tweets\n",
        "\n",
        "**Input/Data:** the training data has tweets, the selected text from the tweets that represent the sentiment, and the sentiment score (categorical good/bad/neutral); the test data includes the same except for the selected text\n",
        "\n",
        "**Output:** CSV file with tweet ID and selected text that represents the tweets' sentiments\n",
        "\n",
        "**Approach:** Question Answering model with distilled BERT transformer (DistilBERT). This approach follows very closely that of [Keras QA example](https://keras.io/examples/nlp/text_extraction_with_bert/): \"BERT (from Huggingface Transformers) for Text Extraction\""
      ]
    },
    {
      "cell_type": "markdown",
      "metadata": {
        "id": "J1-WvcYCgU95"
      },
      "source": [
        "# Preparation"
      ]
    },
    {
      "cell_type": "code",
      "metadata": {
        "id": "-pv5LcSCxjLh"
      },
      "source": [
        "# Import necessary modules\n",
        "import os\n",
        "import re\n",
        "import json\n",
        "import string\n",
        "import numpy as np\n",
        "import tensorflow as tf\n",
        "import matplotlib.pyplot as plt\n",
        "\n",
        "from tensorflow import keras\n",
        "from tensorflow.keras import layers\n",
        "from tokenizers import BertWordPieceTokenizer\n",
        "from transformers import BertTokenizer, TFBertModel, BertConfig\n",
        "\n",
        "max_len = 141\n",
        "configuration = BertConfig()  # default paramters and configuration for BERT"
      ],
      "execution_count": null,
      "outputs": []
    },
    {
      "cell_type": "markdown",
      "metadata": {
        "id": "In3vkzejgP1i"
      },
      "source": [
        "# Get and Explore the Data"
      ]
    },
    {
      "cell_type": "code",
      "metadata": {
        "id": "Z5tIyIk9M7ni"
      },
      "source": [
        "# Load the train and test datasets\n",
        "file_test = '/content/sample_data/Kaggle_Twitter_sentiment_test.csv'\n",
        "file_train = '/content/sample_data/Kaggle_Twitter_sentiment_train.csv'\n",
        "# Read as a pandas dataframe\n",
        "test_data = pd.read_csv(file_test)\n",
        "train_data = pd.read_csv(file_train)"
      ],
      "execution_count": null,
      "outputs": []
    },
    {
      "cell_type": "code",
      "metadata": {
        "id": "iQk1gvU_PnAh",
        "outputId": "02cd76ae-f9e3-44d8-f6c0-f209d8ebd965",
        "colab": {
          "base_uri": "https://localhost:8080/",
          "height": 203
        }
      },
      "source": [
        "# Preview the training data\n",
        "train_data.head()"
      ],
      "execution_count": null,
      "outputs": [
        {
          "output_type": "execute_result",
          "data": {
            "text/html": [
              "<div>\n",
              "<style scoped>\n",
              "    .dataframe tbody tr th:only-of-type {\n",
              "        vertical-align: middle;\n",
              "    }\n",
              "\n",
              "    .dataframe tbody tr th {\n",
              "        vertical-align: top;\n",
              "    }\n",
              "\n",
              "    .dataframe thead th {\n",
              "        text-align: right;\n",
              "    }\n",
              "</style>\n",
              "<table border=\"1\" class=\"dataframe\">\n",
              "  <thead>\n",
              "    <tr style=\"text-align: right;\">\n",
              "      <th></th>\n",
              "      <th>textID</th>\n",
              "      <th>text</th>\n",
              "      <th>selected_text</th>\n",
              "      <th>sentiment</th>\n",
              "    </tr>\n",
              "  </thead>\n",
              "  <tbody>\n",
              "    <tr>\n",
              "      <th>0</th>\n",
              "      <td>cb774db0d1</td>\n",
              "      <td>I`d have responded, if I were going</td>\n",
              "      <td>I`d have responded, if I were going</td>\n",
              "      <td>neutral</td>\n",
              "    </tr>\n",
              "    <tr>\n",
              "      <th>1</th>\n",
              "      <td>549e992a42</td>\n",
              "      <td>Sooo SAD I will miss you here in San Diego!!!</td>\n",
              "      <td>Sooo SAD</td>\n",
              "      <td>negative</td>\n",
              "    </tr>\n",
              "    <tr>\n",
              "      <th>2</th>\n",
              "      <td>088c60f138</td>\n",
              "      <td>my boss is bullying me...</td>\n",
              "      <td>bullying me</td>\n",
              "      <td>negative</td>\n",
              "    </tr>\n",
              "    <tr>\n",
              "      <th>3</th>\n",
              "      <td>9642c003ef</td>\n",
              "      <td>what interview! leave me alone</td>\n",
              "      <td>leave me alone</td>\n",
              "      <td>negative</td>\n",
              "    </tr>\n",
              "    <tr>\n",
              "      <th>4</th>\n",
              "      <td>358bd9e861</td>\n",
              "      <td>Sons of ****, why couldn`t they put them on t...</td>\n",
              "      <td>Sons of ****,</td>\n",
              "      <td>negative</td>\n",
              "    </tr>\n",
              "  </tbody>\n",
              "</table>\n",
              "</div>"
            ],
            "text/plain": [
              "       textID  ... sentiment\n",
              "0  cb774db0d1  ...   neutral\n",
              "1  549e992a42  ...  negative\n",
              "2  088c60f138  ...  negative\n",
              "3  9642c003ef  ...  negative\n",
              "4  358bd9e861  ...  negative\n",
              "\n",
              "[5 rows x 4 columns]"
            ]
          },
          "metadata": {
            "tags": []
          },
          "execution_count": 103
        }
      ]
    },
    {
      "cell_type": "code",
      "metadata": {
        "id": "7Tisx0NdQuPp",
        "outputId": "be0424c0-b1db-43bd-af6a-c64c5a32aa0d",
        "colab": {
          "base_uri": "https://localhost:8080/",
          "height": 203
        }
      },
      "source": [
        "# Preview the test data\n",
        "test_data.head()"
      ],
      "execution_count": null,
      "outputs": [
        {
          "output_type": "execute_result",
          "data": {
            "text/html": [
              "<div>\n",
              "<style scoped>\n",
              "    .dataframe tbody tr th:only-of-type {\n",
              "        vertical-align: middle;\n",
              "    }\n",
              "\n",
              "    .dataframe tbody tr th {\n",
              "        vertical-align: top;\n",
              "    }\n",
              "\n",
              "    .dataframe thead th {\n",
              "        text-align: right;\n",
              "    }\n",
              "</style>\n",
              "<table border=\"1\" class=\"dataframe\">\n",
              "  <thead>\n",
              "    <tr style=\"text-align: right;\">\n",
              "      <th></th>\n",
              "      <th>textID</th>\n",
              "      <th>text</th>\n",
              "      <th>sentiment</th>\n",
              "    </tr>\n",
              "  </thead>\n",
              "  <tbody>\n",
              "    <tr>\n",
              "      <th>0</th>\n",
              "      <td>f87dea47db</td>\n",
              "      <td>Last session of the day  http://twitpic.com/67ezh</td>\n",
              "      <td>neutral</td>\n",
              "    </tr>\n",
              "    <tr>\n",
              "      <th>1</th>\n",
              "      <td>96d74cb729</td>\n",
              "      <td>Shanghai is also really exciting (precisely -...</td>\n",
              "      <td>positive</td>\n",
              "    </tr>\n",
              "    <tr>\n",
              "      <th>2</th>\n",
              "      <td>eee518ae67</td>\n",
              "      <td>Recession hit Veronique Branquinho, she has to...</td>\n",
              "      <td>negative</td>\n",
              "    </tr>\n",
              "    <tr>\n",
              "      <th>3</th>\n",
              "      <td>01082688c6</td>\n",
              "      <td>happy bday!</td>\n",
              "      <td>positive</td>\n",
              "    </tr>\n",
              "    <tr>\n",
              "      <th>4</th>\n",
              "      <td>33987a8ee5</td>\n",
              "      <td>http://twitpic.com/4w75p - I like it!!</td>\n",
              "      <td>positive</td>\n",
              "    </tr>\n",
              "  </tbody>\n",
              "</table>\n",
              "</div>"
            ],
            "text/plain": [
              "       textID                                               text sentiment\n",
              "0  f87dea47db  Last session of the day  http://twitpic.com/67ezh   neutral\n",
              "1  96d74cb729   Shanghai is also really exciting (precisely -...  positive\n",
              "2  eee518ae67  Recession hit Veronique Branquinho, she has to...  negative\n",
              "3  01082688c6                                        happy bday!  positive\n",
              "4  33987a8ee5             http://twitpic.com/4w75p - I like it!!  positive"
            ]
          },
          "metadata": {
            "tags": []
          },
          "execution_count": 104
        }
      ]
    },
    {
      "cell_type": "code",
      "metadata": {
        "id": "hRauMDRNUBof",
        "outputId": "cb0574e3-369e-42ef-cf2c-4fa914e0b31d",
        "colab": {
          "base_uri": "https://localhost:8080/",
          "height": 52
        }
      },
      "source": [
        "# See the lenght of both\n",
        "print('Dimensions of the training data are: ', train_data.shape)\n",
        "print('Dimensions of the test data are: ', test_data.shape)"
      ],
      "execution_count": null,
      "outputs": [
        {
          "output_type": "stream",
          "text": [
            "Dimensions of the training data are:  (27481, 4)\n",
            "Dimensions of the test data are:  (3534, 3)\n"
          ],
          "name": "stdout"
        }
      ]
    },
    {
      "cell_type": "code",
      "metadata": {
        "id": "olwS0wFvlcy_",
        "outputId": "d86e01ae-9661-4f5d-c73a-efda6fcdb22d",
        "colab": {
          "base_uri": "https://localhost:8080/",
          "height": 387
        }
      },
      "source": [
        "# See how prevalent each sentiment are in the training data\n",
        "print(train_data['sentiment'].value_counts())\n",
        "\n",
        "train_data['sentiment'].value_counts().plot(kind='bar')"
      ],
      "execution_count": null,
      "outputs": [
        {
          "output_type": "stream",
          "text": [
            "neutral     11118\n",
            "positive     8582\n",
            "negative     7781\n",
            "Name: sentiment, dtype: int64\n"
          ],
          "name": "stdout"
        },
        {
          "output_type": "execute_result",
          "data": {
            "text/plain": [
              "<matplotlib.axes._subplots.AxesSubplot at 0x7fdaff7fa7b8>"
            ]
          },
          "metadata": {
            "tags": []
          },
          "execution_count": 106
        },
        {
          "output_type": "display_data",
          "data": {
            "image/png": "[encoded data removed]",
            "text/plain": [
              "<Figure size 432x288 with 1 Axes>"
            ]
          },
          "metadata": {
            "tags": [],
            "needs_background": "light"
          }
        }
      ]
    },
    {
      "cell_type": "markdown",
      "metadata": {
        "id": "--4kK-DVVMyi"
      },
      "source": [
        "Most tweets in the training set are neutral, and the split between positive and negative is pretty even. This means the data are not really biased towards certain sentiments compared to others."
      ]
    },
    {
      "cell_type": "code",
      "metadata": {
        "id": "X17gs_mwZbsz",
        "outputId": "5c924fa6-39d2-434e-8bd7-238ea1c5ac48",
        "colab": {
          "base_uri": "https://localhost:8080/",
          "height": 34
        }
      },
      "source": [
        "# Drop the empty row\n",
        "train_data = train_data.replace(r'^\\s*$', np.nan, regex=True)\n",
        "train_data.dropna(inplace=True)\n",
        "print('Dimensions of the training data are now: ', train_data.shape)"
      ],
      "execution_count": null,
      "outputs": [
        {
          "output_type": "stream",
          "text": [
            "Dimensions of the training data are now:  (27480, 4)\n"
          ],
          "name": "stdout"
        }
      ]
    },
    {
      "cell_type": "code",
      "metadata": {
        "id": "wf8tKpUVZOwo",
        "outputId": "5ddfeef0-4641-4f6c-87af-f8e9e216b6ee",
        "colab": {
          "base_uri": "https://localhost:8080/",
          "height": 210
        }
      },
      "source": [
        "# View a consise summary of the training dataframe, including whether there are any null objects\n",
        "train_data.info()"
      ],
      "execution_count": null,
      "outputs": [
        {
          "output_type": "stream",
          "text": [
            "<class 'pandas.core.frame.DataFrame'>\n",
            "Int64Index: 27480 entries, 0 to 27480\n",
            "Data columns (total 4 columns):\n",
            " #   Column         Non-Null Count  Dtype \n",
            "---  ------         --------------  ----- \n",
            " 0   textID         27480 non-null  object\n",
            " 1   text           27480 non-null  object\n",
            " 2   selected_text  27480 non-null  object\n",
            " 3   sentiment      27480 non-null  object\n",
            "dtypes: object(4)\n",
            "memory usage: 1.0+ MB\n"
          ],
          "name": "stdout"
        }
      ]
    },
    {
      "cell_type": "code",
      "metadata": {
        "id": "tEkXVp0mZf6g",
        "outputId": "5e06cb12-ffe6-41e9-a4ad-9e7030128cc8",
        "colab": {
          "base_uri": "https://localhost:8080/",
          "height": 193
        }
      },
      "source": [
        "# View a consise summary of the test dataframe, including whether there are any null objects\n",
        "test_data.info()"
      ],
      "execution_count": null,
      "outputs": [
        {
          "output_type": "stream",
          "text": [
            "<class 'pandas.core.frame.DataFrame'>\n",
            "RangeIndex: 3534 entries, 0 to 3533\n",
            "Data columns (total 3 columns):\n",
            " #   Column     Non-Null Count  Dtype \n",
            "---  ------     --------------  ----- \n",
            " 0   textID     3534 non-null   object\n",
            " 1   text       3534 non-null   object\n",
            " 2   sentiment  3534 non-null   object\n",
            "dtypes: object(3)\n",
            "memory usage: 83.0+ KB\n"
          ],
          "name": "stdout"
        }
      ]
    },
    {
      "cell_type": "markdown",
      "metadata": {
        "id": "Ab-NcEnpfMuL"
      },
      "source": [
        "Summary: The training dataset has four columns: textID, text, selected_text, and sentiment. The test dataset has the same minus the selected_text column. The selected_text column contains a selection of the tweet that is best associated with the sentiment. It contains only one subsection of the text. Something to keep in mind during the next preparation phase is that the selected_text should not only consider the words, but also the spacing and extra characters such as punctuation marks. Some of the selected_text, for example, has irrelevant or strange start and end points, such as \"o quite like lily allen and her music, to be honest.\" for the tweet \"i'm actually starting to quite like lily allen and her music, to be honest.\""
      ]
    },
    {
      "cell_type": "markdown",
      "metadata": {
        "id": "S4tgLJY1N7A4"
      },
      "source": [
        "# Prep Data for the Model\n"
      ]
    },
    {
      "cell_type": "code",
      "metadata": {
        "id": "YyxzCamhpASr"
      },
      "source": [
        "def make_question(que):\n",
        "  '''Parameter que is a pandas column with the sentiment.\n",
        "  Returns the sentiment in question format. '''\n",
        "\n",
        "  if que == 'positive':\n",
        "    return 'positive tweet?'\n",
        "  if que == 'neutral':\n",
        "    return 'neutral tweet?'\n",
        "  if que == 'negative':\n",
        "    return 'negative tweet?'"
      ],
      "execution_count": null,
      "outputs": []
    },
    {
      "cell_type": "code",
      "metadata": {
        "id": "5Lw9lvrInZdD",
        "outputId": "9dffd3eb-70cc-4cb5-cd42-141b5d536533",
        "colab": {
          "base_uri": "https://localhost:8080/",
          "height": 203
        }
      },
      "source": [
        "# Add new column with the sentiments as questions\n",
        "train_data['sentiment_que'] = train_data['sentiment'].apply(make_question)\n",
        "test_data['sentiment_que'] = test_data['sentiment'].apply(make_question)\n",
        "\n",
        "train_data.head()"
      ],
      "execution_count": null,
      "outputs": [
        {
          "output_type": "execute_result",
          "data": {
            "text/html": [
              "<div>\n",
              "<style scoped>\n",
              "    .dataframe tbody tr th:only-of-type {\n",
              "        vertical-align: middle;\n",
              "    }\n",
              "\n",
              "    .dataframe tbody tr th {\n",
              "        vertical-align: top;\n",
              "    }\n",
              "\n",
              "    .dataframe thead th {\n",
              "        text-align: right;\n",
              "    }\n",
              "</style>\n",
              "<table border=\"1\" class=\"dataframe\">\n",
              "  <thead>\n",
              "    <tr style=\"text-align: right;\">\n",
              "      <th></th>\n",
              "      <th>textID</th>\n",
              "      <th>text</th>\n",
              "      <th>selected_text</th>\n",
              "      <th>sentiment</th>\n",
              "      <th>sentiment_que</th>\n",
              "    </tr>\n",
              "  </thead>\n",
              "  <tbody>\n",
              "    <tr>\n",
              "      <th>0</th>\n",
              "      <td>cb774db0d1</td>\n",
              "      <td>I`d have responded, if I were going</td>\n",
              "      <td>I`d have responded, if I were going</td>\n",
              "      <td>neutral</td>\n",
              "      <td>neutral tweet?</td>\n",
              "    </tr>\n",
              "    <tr>\n",
              "      <th>1</th>\n",
              "      <td>549e992a42</td>\n",
              "      <td>Sooo SAD I will miss you here in San Diego!!!</td>\n",
              "      <td>Sooo SAD</td>\n",
              "      <td>negative</td>\n",
              "      <td>negative tweet?</td>\n",
              "    </tr>\n",
              "    <tr>\n",
              "      <th>2</th>\n",
              "      <td>088c60f138</td>\n",
              "      <td>my boss is bullying me...</td>\n",
              "      <td>bullying me</td>\n",
              "      <td>negative</td>\n",
              "      <td>negative tweet?</td>\n",
              "    </tr>\n",
              "    <tr>\n",
              "      <th>3</th>\n",
              "      <td>9642c003ef</td>\n",
              "      <td>what interview! leave me alone</td>\n",
              "      <td>leave me alone</td>\n",
              "      <td>negative</td>\n",
              "      <td>negative tweet?</td>\n",
              "    </tr>\n",
              "    <tr>\n",
              "      <th>4</th>\n",
              "      <td>358bd9e861</td>\n",
              "      <td>Sons of ****, why couldn`t they put them on t...</td>\n",
              "      <td>Sons of ****,</td>\n",
              "      <td>negative</td>\n",
              "      <td>negative tweet?</td>\n",
              "    </tr>\n",
              "  </tbody>\n",
              "</table>\n",
              "</div>"
            ],
            "text/plain": [
              "       textID  ...    sentiment_que\n",
              "0  cb774db0d1  ...   neutral tweet?\n",
              "1  549e992a42  ...  negative tweet?\n",
              "2  088c60f138  ...  negative tweet?\n",
              "3  9642c003ef  ...  negative tweet?\n",
              "4  358bd9e861  ...  negative tweet?\n",
              "\n",
              "[5 rows x 5 columns]"
            ]
          },
          "metadata": {
            "tags": []
          },
          "execution_count": 111
        }
      ]
    },
    {
      "cell_type": "code",
      "metadata": {
        "id": "7Cduqgi1rrim",
        "outputId": "8310d38d-6804-4716-f9e9-9952ab4626e6",
        "colab": {
          "base_uri": "https://localhost:8080/",
          "height": 203
        }
      },
      "source": [
        "# Find the start index of the selected_text in relation to the text column\n",
        "# and put in new column\n",
        "train_data = train_data.fillna('')\n",
        "train_data['answer_index'] = train_data.apply(lambda x: str.find(x['text'],\n",
        "                                 x['selected_text']), axis=1)\n",
        "train_data.head()"
      ],
      "execution_count": null,
      "outputs": [
        {
          "output_type": "execute_result",
          "data": {
            "text/html": [
              "<div>\n",
              "<style scoped>\n",
              "    .dataframe tbody tr th:only-of-type {\n",
              "        vertical-align: middle;\n",
              "    }\n",
              "\n",
              "    .dataframe tbody tr th {\n",
              "        vertical-align: top;\n",
              "    }\n",
              "\n",
              "    .dataframe thead th {\n",
              "        text-align: right;\n",
              "    }\n",
              "</style>\n",
              "<table border=\"1\" class=\"dataframe\">\n",
              "  <thead>\n",
              "    <tr style=\"text-align: right;\">\n",
              "      <th></th>\n",
              "      <th>textID</th>\n",
              "      <th>text</th>\n",
              "      <th>selected_text</th>\n",
              "      <th>sentiment</th>\n",
              "      <th>sentiment_que</th>\n",
              "      <th>answer_index</th>\n",
              "    </tr>\n",
              "  </thead>\n",
              "  <tbody>\n",
              "    <tr>\n",
              "      <th>0</th>\n",
              "      <td>cb774db0d1</td>\n",
              "      <td>I`d have responded, if I were going</td>\n",
              "      <td>I`d have responded, if I were going</td>\n",
              "      <td>neutral</td>\n",
              "      <td>neutral tweet?</td>\n",
              "      <td>1</td>\n",
              "    </tr>\n",
              "    <tr>\n",
              "      <th>1</th>\n",
              "      <td>549e992a42</td>\n",
              "      <td>Sooo SAD I will miss you here in San Diego!!!</td>\n",
              "      <td>Sooo SAD</td>\n",
              "      <td>negative</td>\n",
              "      <td>negative tweet?</td>\n",
              "      <td>1</td>\n",
              "    </tr>\n",
              "    <tr>\n",
              "      <th>2</th>\n",
              "      <td>088c60f138</td>\n",
              "      <td>my boss is bullying me...</td>\n",
              "      <td>bullying me</td>\n",
              "      <td>negative</td>\n",
              "      <td>negative tweet?</td>\n",
              "      <td>11</td>\n",
              "    </tr>\n",
              "    <tr>\n",
              "      <th>3</th>\n",
              "      <td>9642c003ef</td>\n",
              "      <td>what interview! leave me alone</td>\n",
              "      <td>leave me alone</td>\n",
              "      <td>negative</td>\n",
              "      <td>negative tweet?</td>\n",
              "      <td>17</td>\n",
              "    </tr>\n",
              "    <tr>\n",
              "      <th>4</th>\n",
              "      <td>358bd9e861</td>\n",
              "      <td>Sons of ****, why couldn`t they put them on t...</td>\n",
              "      <td>Sons of ****,</td>\n",
              "      <td>negative</td>\n",
              "      <td>negative tweet?</td>\n",
              "      <td>1</td>\n",
              "    </tr>\n",
              "  </tbody>\n",
              "</table>\n",
              "</div>"
            ],
            "text/plain": [
              "       textID  ... answer_index\n",
              "0  cb774db0d1  ...            1\n",
              "1  549e992a42  ...            1\n",
              "2  088c60f138  ...           11\n",
              "3  9642c003ef  ...           17\n",
              "4  358bd9e861  ...            1\n",
              "\n",
              "[5 rows x 6 columns]"
            ]
          },
          "metadata": {
            "tags": []
          },
          "execution_count": 112
        }
      ]
    },
    {
      "cell_type": "code",
      "metadata": {
        "id": "y6zPHxYZ5VzC",
        "colab": {
          "base_uri": "https://localhost:8080/",
          "height": 52
        },
        "outputId": "4a5eb913-dbf8-4349-e3c8-0cefbc39a791"
      },
      "source": [
        "# Split the training dataframe into a training and eval (validation)\n",
        "train_data = train_data.head(n=13144)\n",
        "eval_data = train_data.tail(n=3290)\n",
        "\n",
        "print('Size of training set: ', len(train_data))\n",
        "print('Size of eval set: ', len(eval_data))"
      ],
      "execution_count": null,
      "outputs": [
        {
          "output_type": "stream",
          "text": [
            "Size of training set:  13144\n",
            "Size of eval set:  3290\n"
          ],
          "name": "stdout"
        }
      ]
    },
    {
      "cell_type": "markdown",
      "metadata": {
        "id": "BYFLy6Yww4wW"
      },
      "source": [
        "The data needs to be in a very particular format for the model. I ran the code from the [Keras BERT Encoder QA model code](https://keras.io/examples/nlp/text_extraction_with_bert/) I referenced in the beginning and modelled the list of dictionaries after it. It is similar to but not the same as the list of dictionaries I needed for the DistilBERT model."
      ]
    },
    {
      "cell_type": "code",
      "metadata": {
        "id": "SX8lCdnlwzO1"
      },
      "source": [
        "def prep_data(df, qa_list):\n",
        "  '''Parameter df is training or test data.\n",
        "  Returns the reformatted data.'''\n",
        "\n",
        "  for ind in df.index:\n",
        "\n",
        "    main_d = dict()\n",
        "\n",
        "    # The context in this QA model is the full tweet\n",
        "    context = df.loc[ind, \"text\"].lower()\n",
        "    main_d[\"context\"] = context\n",
        "\n",
        "    qas=[]\n",
        "    inside_qas={}\n",
        "\n",
        "    # The answer in this QA model is the selected_text\n",
        "    inside_answer=[{\"answer_start\": int(df.loc(axis=0)[ind, \"answer_index\"]),\n",
        "                    \"text\": df.loc[ind, \"selected_text\"].lower()}]\n",
        "    inside_qas[\"answers\"] = inside_answer\n",
        "\n",
        "    # The question in this QA model is the sentiment\n",
        "    inside_qas[\"id\"] = df.loc[ind, \"textID\"]\n",
        "    inside_qas[\"question\"] = df.loc[ind,\"sentiment_que\"]\n",
        "\n",
        "    qas.append(inside_qas)\n",
        "\n",
        "    main_d[\"qas\"] = qas\n",
        "\n",
        "    qa_list.append(main_d)\n",
        "\n",
        "  return qa_list"
      ],
      "execution_count": null,
      "outputs": []
    },
    {
      "cell_type": "code",
      "metadata": {
        "id": "kJXO9N2c6W_1"
      },
      "source": [
        "def prep_eval_data(df, qa_list):\n",
        "  '''Parameter df is training or test data.\n",
        "  Returns the reformatted data.'''\n",
        "\n",
        "  for ind in df.index:\n",
        "\n",
        "    main_d = dict()\n",
        "\n",
        "    # The context in this QA model is the full tweet\n",
        "    context = df.loc[ind, \"text\"].lower()\n",
        "    main_d[\"context\"] = context\n",
        "\n",
        "    qas=[]\n",
        "    inside_qas={}\n",
        "\n",
        "    # The answer in this QA model is the selected_text\n",
        "    inside_answer=[{\"answer_start\": int(df.loc(axis=0)[ind, \"answer_index\"]),\n",
        "                    \"text\": df.loc[ind, \"selected_text\"].lower()}]\n",
        "    inside_qas[\"answers\"] = inside_answer\n",
        "\n",
        "    # The question in this QA model is the sentiment\n",
        "    inside_qas[\"answer_start\"] = int(df.loc(axis=0)[ind, \"answer_index\"])\n",
        "    inside_qas[\"text\"] = df.loc[ind, \"selected_text\"].lower()\n",
        "\n",
        "    # The question in this QA model is the sentiment\n",
        "    inside_qas[\"id\"] = df.loc[ind, \"textID\"]\n",
        "    inside_qas[\"question\"] = df.loc[ind,\"sentiment_que\"]\n",
        "\n",
        "    qas.append(inside_qas)\n",
        "\n",
        "    main_d[\"qas\"] = qas\n",
        "\n",
        "    qa_list.append(main_d)\n",
        "\n",
        "  return qa_list"
      ],
      "execution_count": null,
      "outputs": []
    },
    {
      "cell_type": "code",
      "metadata": {
        "id": "VfEhGUzr1i-O",
        "outputId": "8d6e9af1-f51f-4b36-f724-f2b115012843",
        "colab": {
          "base_uri": "https://localhost:8080/",
          "height": 72
        }
      },
      "source": [
        "# Transform the data to the list of dictionaries\n",
        "qa_train_data = []\n",
        "qa_test_data = []\n",
        "\n",
        "train_data_prepped = prep_data(train_data, qa_train_data)\n",
        "eval_data_prepped = prep_data(eval_data, qa_test_data)\n",
        "\n",
        "print('Prepped training data: ', train_data_prepped[:2])\n",
        "print('Prepped testing data: ', eval_data_prepped[:2])"
      ],
      "execution_count": null,
      "outputs": [
        {
          "output_type": "stream",
          "text": [
            "Prepped training data:  [{'context': ' i`d have responded, if i were going', 'qas': [{'answers': [{'answer_start': 1, 'text': 'i`d have responded, if i were going'}], 'id': 'cb774db0d1', 'question': 'neutral tweet?'}]}, {'context': ' sooo sad i will miss you here in san diego!!!', 'qas': [{'answers': [{'answer_start': 1, 'text': 'sooo sad'}], 'id': '549e992a42', 'question': 'negative tweet?'}]}]\n",
            "Prepped testing data:  [{'context': ' i know what appeals to you with knitting! believe me i know!', 'qas': [{'answers': [{'answer_start': 43, 'text': 'believe me i know!'}], 'id': 'c501e02cab', 'question': 'positive tweet?'}]}, {'context': 'making a life w/o bounds! t-shirt for second life', 'qas': [{'answers': [{'answer_start': 0, 'text': 'making a life w/o bounds! t-shirt for second life'}], 'id': '6cedca1722', 'question': 'neutral tweet?'}]}]\n"
          ],
          "name": "stdout"
        }
      ]
    },
    {
      "cell_type": "code",
      "metadata": {
        "id": "SCQDbB_We85h"
      },
      "source": [
        "# I also need to add a top level paragraphs dictionary for some reason.\n",
        "raw_train_data = {\n",
        "  'paragraphs': train_data_prepped\n",
        "}\n",
        "\n",
        "raw_eval_data = {\n",
        "  'paragraphs': eval_data_prepped\n",
        "}"
      ],
      "execution_count": null,
      "outputs": []
    },
    {
      "cell_type": "code",
      "metadata": {
        "id": "szOfnwCVxYls"
      },
      "source": [
        "# Save the slow pretrained tokenizer\n",
        "slow_tokenizer = BertTokenizer.from_pretrained(\"bert-base-uncased\")\n",
        "save_path = \"bert_base_uncased/\"\n",
        "if not os.path.exists(save_path):\n",
        "    os.makedirs(save_path)\n",
        "slow_tokenizer.save_pretrained(save_path)\n",
        "\n",
        "# Load the fast tokenizer from saved file\n",
        "tokenizer = BertWordPieceTokenizer(\"bert_base_uncased/vocab.txt\", lowercase=True)"
      ],
      "execution_count": null,
      "outputs": []
    },
    {
      "cell_type": "code",
      "metadata": {
        "id": "el5ro0J9IO8q"
      },
      "source": [
        "# This entire class is almost word for word copied from the Keras example.\n",
        "# It does a lot of data preprocessing.\n",
        "class SquadExample:\n",
        "    def __init__(self, question, context, start_char_idx, answer_text, all_answers):\n",
        "        self.question = question\n",
        "        self.context = context\n",
        "        self.start_char_idx = start_char_idx\n",
        "        self.answer_text = answer_text\n",
        "        self.all_answers = all_answers\n",
        "        self.skip = False\n",
        "\n",
        "    def preprocess(self):\n",
        "        context = self.context\n",
        "        question = self.question\n",
        "        answer_text = self.answer_text\n",
        "        start_char_idx = self.start_char_idx\n",
        "\n",
        "        # Clean context, answer and question\n",
        "        context = \" \".join(str(context).split())\n",
        "        question = \" \".join(str(question).split())\n",
        "        answer = \" \".join(str(answer_text).split())\n",
        "\n",
        "        # Find end character index of answer in context\n",
        "        end_char_idx = start_char_idx + len(answer)\n",
        "        if end_char_idx >= len(context):\n",
        "            self.skip = True\n",
        "            return\n",
        "\n",
        "        # Mark the character indexes in context that are in answer\n",
        "        is_char_in_ans = [0] * len(context)\n",
        "        for idx in range(start_char_idx, end_char_idx):\n",
        "            is_char_in_ans[idx] = 1\n",
        "\n",
        "        # Tokenize context\n",
        "        tokenized_context = tokenizer.encode(context)\n",
        "\n",
        "        # Find tokens that were created from answer characters\n",
        "        ans_token_idx = []\n",
        "        for idx, (start, end) in enumerate(tokenized_context.offsets):\n",
        "            if sum(is_char_in_ans[start:end]) > 0:\n",
        "                ans_token_idx.append(idx)\n",
        "\n",
        "        if len(ans_token_idx) == 0:\n",
        "            self.skip = True\n",
        "            return\n",
        "\n",
        "        # Find start and end token index for tokens from answer\n",
        "        start_token_idx = ans_token_idx[0]\n",
        "        end_token_idx = ans_token_idx[-1]\n",
        "\n",
        "        # Tokenize question\n",
        "        tokenized_question = tokenizer.encode(question)\n",
        "\n",
        "        # Create inputs\n",
        "        input_ids = tokenized_context.ids + tokenized_question.ids[1:]\n",
        "        token_type_ids = [0] * len(tokenized_context.ids) + [1] * len(\n",
        "            tokenized_question.ids[1:]\n",
        "        )\n",
        "        attention_mask = [1] * len(input_ids)\n",
        "\n",
        "        # Pad and create attention masks.\n",
        "        # Skip if truncation is needed\n",
        "        padding_length = max_len - len(input_ids)\n",
        "        if padding_length > 0:  # pad\n",
        "            input_ids = input_ids + ([0] * padding_length)\n",
        "            attention_mask = attention_mask + ([0] * padding_length)\n",
        "            token_type_ids = token_type_ids + ([0] * padding_length)\n",
        "        elif padding_length < 0:  # skip\n",
        "            self.skip = True\n",
        "            return\n",
        "\n",
        "        self.input_ids = input_ids\n",
        "        self.token_type_ids = token_type_ids\n",
        "        self.attention_mask = attention_mask\n",
        "        self.start_token_idx = start_token_idx\n",
        "        self.end_token_idx = end_token_idx\n",
        "        self.context_token_to_char = tokenized_context.offsets\n",
        "\n",
        "def create_squad_examples(raw_data):\n",
        "    squad_examples = []\n",
        "    for para in raw_data[\"paragraphs\"]:\n",
        "        context = para[\"context\"]\n",
        "        for qa in para[\"qas\"]:\n",
        "            question = qa[\"question\"]\n",
        "            answer_text = qa[\"answers\"][0][\"text\"]\n",
        "            all_answers = [_[\"text\"] for _ in qa[\"answers\"]]\n",
        "            start_char_idx = qa[\"answers\"][0][\"answer_start\"]\n",
        "            squad_eg = SquadExample(\n",
        "                question, context, start_char_idx, answer_text, all_answers)\n",
        "            squad_eg.preprocess()\n",
        "            squad_examples.append(squad_eg)\n",
        "    return squad_examples\n",
        "\n",
        "\n",
        "def create_inputs_targets(squad_examples):\n",
        "    dataset_dict = {\n",
        "        \"input_ids\": [],\n",
        "        \"token_type_ids\": [],\n",
        "        \"attention_mask\": [],\n",
        "        \"start_token_idx\": [],\n",
        "        \"end_token_idx\": [],\n",
        "    }\n",
        "    for item in squad_examples:\n",
        "        if item.skip == False:\n",
        "            for key in dataset_dict:\n",
        "                dataset_dict[key].append(getattr(item, key))\n",
        "    for key in dataset_dict:\n",
        "        dataset_dict[key] = np.array(dataset_dict[key])\n",
        "\n",
        "    x = [\n",
        "        dataset_dict[\"input_ids\"],\n",
        "        dataset_dict[\"token_type_ids\"],\n",
        "        dataset_dict[\"attention_mask\"],\n",
        "    ]\n",
        "    y = [dataset_dict[\"start_token_idx\"], dataset_dict[\"end_token_idx\"]]\n",
        "    return x, y"
      ],
      "execution_count": null,
      "outputs": []
    },
    {
      "cell_type": "code",
      "metadata": {
        "id": "A26tiwbmgWxv",
        "colab": {
          "base_uri": "https://localhost:8080/",
          "height": 52
        },
        "outputId": "6c7b80bd-aab3-4b3a-9b23-45c40cc03256"
      },
      "source": [
        "train_squad_examples = create_squad_examples(raw_train_data)\n",
        "x_train, y_train = create_inputs_targets(train_squad_examples)\n",
        "print(f\"{len(train_squad_examples)} training points created.\")\n",
        "\n",
        "eval_squad_examples = create_squad_examples(raw_eval_data)\n",
        "x_eval, y_eval = create_inputs_targets(eval_squad_examples)\n",
        "print(f\"{len(eval_squad_examples)} evaluation points created.\")"
      ],
      "execution_count": null,
      "outputs": [
        {
          "output_type": "stream",
          "text": [
            "13144 training points created.\n",
            "3290 evaluation points created.\n"
          ],
          "name": "stdout"
        }
      ]
    },
    {
      "cell_type": "code",
      "metadata": {
        "id": "JgUlGmIoA0i_",
        "colab": {
          "base_uri": "https://localhost:8080/",
          "height": 298
        },
        "outputId": "3b07308e-be82-44a3-f088-1d2dc63e2daf"
      },
      "source": [
        "# Take a look under the hood\n",
        "print('x train: ', x_train[0])\n",
        "print('x eval: ', x_eval[0])\n",
        "print('y train: ', y_train[0])\n",
        "print('y eval: ', y_eval[0])"
      ],
      "execution_count": null,
      "outputs": [
        {
          "output_type": "stream",
          "text": [
            "x train:  [[  101 17111  2080 ...     0     0     0]\n",
            " [  101  2026  5795 ...     0     0     0]\n",
            " [  101  4124  1997 ...     0     0     0]\n",
            " ...\n",
            " [  101  2052  2293 ...     0     0     0]\n",
            " [  101  1999  2060 ...     0     0     0]\n",
            " [  101  1035 11608 ...     0     0     0]]\n",
            "x eval:  [[  101  4771  1996 ...     0     0     0]\n",
            " [  101  2559  2830 ...     0     0     0]\n",
            " [  101  1045  4687 ...     0     0     0]\n",
            " ...\n",
            " [  101  2052  2293 ...     0     0     0]\n",
            " [  101  1999  2060 ...     0     0     0]\n",
            " [  101  1035 11608 ...     0     0     0]]\n",
            "y train:  [ 1  4  1 ...  2  6 16]\n",
            "y eval:  [ 1  1  2 ...  2  6 16]\n"
          ],
          "name": "stdout"
        }
      ]
    },
    {
      "cell_type": "markdown",
      "metadata": {
        "id": "xr0KRRX3nWif"
      },
      "source": [
        "# Build model"
      ]
    },
    {
      "cell_type": "code",
      "metadata": {
        "id": "8eBdVT_BEVZ1"
      },
      "source": [
        "# Define hyperparameter values\n",
        "epochs = 5\n",
        "learn_rate = 0.00005"
      ],
      "execution_count": null,
      "outputs": []
    },
    {
      "cell_type": "code",
      "metadata": {
        "id": "n31t-5SlI78Q"
      },
      "source": [
        "def create_model():\n",
        "  '''Network with the following layers:\n",
        "  encoder, 3xinputs+encoder, dense, flatten, 2xactivation\n",
        "  With categorical cross entropy loss function and Adam optimizer\n",
        "  '''\n",
        "\n",
        "  ## BERT encoder\n",
        "  encoder = TFBertModel.from_pretrained(\"bert-base-uncased\")\n",
        "\n",
        "  ## QA Model\n",
        "  input_ids = layers.Input(shape=(max_len,), dtype=tf.int32)\n",
        "  token_type_ids = layers.Input(shape=(max_len,), dtype=tf.int32)\n",
        "  attention_mask = layers.Input(shape=(max_len,), dtype=tf.int32)\n",
        "  embedding = encoder(\n",
        "      input_ids, token_type_ids=token_type_ids, attention_mask=attention_mask\n",
        "  )[0]\n",
        "\n",
        "  start_logits = layers.Dense(1, name=\"start_logit\", use_bias=False)(embedding)\n",
        "  start_logits = layers.Flatten()(start_logits)\n",
        "\n",
        "  end_logits = layers.Dense(1, name=\"end_logit\", use_bias=False)(embedding)\n",
        "  end_logits = layers.Flatten()(end_logits)\n",
        "\n",
        "  start_probs = layers.Activation(keras.activations.softmax)(start_logits)\n",
        "  end_probs = layers.Activation(keras.activations.softmax)(end_logits)\n",
        "\n",
        "  model = keras.Model(\n",
        "      inputs=[input_ids, token_type_ids, attention_mask],\n",
        "      outputs=[start_probs, end_probs],\n",
        "  )\n",
        "  loss = keras.losses.SparseCategoricalCrossentropy(from_logits=False)\n",
        "  optimizer = keras.optimizers.Adam(lr=5e-5)\n",
        "  model.compile(optimizer=optimizer, loss=[loss, loss])\n",
        "  return model"
      ],
      "execution_count": null,
      "outputs": []
    },
    {
      "cell_type": "code",
      "metadata": {
        "id": "RktLOLu1L0te",
        "outputId": "050cdb2e-71f9-4653-c272-9b292bce7a84",
        "colab": {
          "base_uri": "https://localhost:8080/",
          "height": 510
        }
      },
      "source": [
        "model = create_model()\n",
        "\n",
        "model.summary()"
      ],
      "execution_count": null,
      "outputs": [
        {
          "output_type": "stream",
          "text": [
            "Model: \"model_1\"\n",
            "__________________________________________________________________________________________________\n",
            "Layer (type)                    Output Shape         Param #     Connected to                     \n",
            "==================================================================================================\n",
            "input_4 (InputLayer)            [(None, 141)]        0                                            \n",
            "__________________________________________________________________________________________________\n",
            "input_6 (InputLayer)            [(None, 141)]        0                                            \n",
            "__________________________________________________________________________________________________\n",
            "input_5 (InputLayer)            [(None, 141)]        0                                            \n",
            "__________________________________________________________________________________________________\n",
            "tf_bert_model_1 (TFBertModel)   ((None, 141, 768), ( 109482240   input_4[0][0]                    \n",
            "__________________________________________________________________________________________________\n",
            "start_logit (Dense)             (None, 141, 1)       768         tf_bert_model_1[0][0]            \n",
            "__________________________________________________________________________________________________\n",
            "end_logit (Dense)               (None, 141, 1)       768         tf_bert_model_1[0][0]            \n",
            "__________________________________________________________________________________________________\n",
            "flatten_2 (Flatten)             (None, 141)          0           start_logit[0][0]                \n",
            "__________________________________________________________________________________________________\n",
            "flatten_3 (Flatten)             (None, 141)          0           end_logit[0][0]                  \n",
            "__________________________________________________________________________________________________\n",
            "activation_9 (Activation)       (None, 141)          0           flatten_2[0][0]                  \n",
            "__________________________________________________________________________________________________\n",
            "activation_10 (Activation)      (None, 141)          0           flatten_3[0][0]                  \n",
            "==================================================================================================\n",
            "Total params: 109,483,776\n",
            "Trainable params: 109,483,776\n",
            "Non-trainable params: 0\n",
            "__________________________________________________________________________________________________\n"
          ],
          "name": "stdout"
        }
      ]
    },
    {
      "cell_type": "code",
      "metadata": {
        "id": "AcP5R6ChPuNN"
      },
      "source": [
        "# These functions are also taken almost word-for-word from the Keras\n",
        "# tutorial cited at the beginning of this notebook. Evaluation metric\n",
        "# for prediction accuracy\n",
        "\n",
        "def normalize_text(text):\n",
        "    return text\n",
        "\n",
        "\n",
        "class ExactMatch(keras.callbacks.Callback):\n",
        "    \"\"\"\n",
        "    Each object contains the character level offsets for each token\n",
        "    in its input paragraph. They are used to get back the span of text corresponding\n",
        "    to the tokens between our predicted start and end tokens.\n",
        "    All the ground-truth answers are also present in each object.\n",
        "    Also calculate the percentage of data points where the span of text obtained\n",
        "    from model predictions matches the ground-truth answers.\n",
        "    \"\"\"\n",
        "\n",
        "    def __init__(self, x_eval, y_eval):\n",
        "        self.x_eval = x_eval\n",
        "        self.y_eval = y_eval\n",
        "\n",
        "    def on_epoch_end(self, epoch, logs=None):\n",
        "        pred_start, pred_end = self.model.predict(self.x_eval)\n",
        "        count = 0\n",
        "        eval_examples_no_skip = [_ for _ in eval_squad_examples if _.skip == False]\n",
        "        for idx, (start, end) in enumerate(zip(pred_start, pred_end)):\n",
        "            squad_eg = eval_examples_no_skip[idx]\n",
        "            offsets = squad_eg.context_token_to_char\n",
        "            start = np.argmax(start)\n",
        "            end = np.argmax(end)\n",
        "            if start >= len(offsets):\n",
        "                continue\n",
        "            pred_char_start = offsets[start][0]\n",
        "            if end < len(offsets):\n",
        "                pred_char_end = offsets[end][1]\n",
        "                pred_ans = squad_eg.context[pred_char_start:pred_char_end]\n",
        "            else:\n",
        "                pred_ans = squad_eg.context[pred_char_start:]\n",
        "\n",
        "            normalized_pred_ans = normalize_text(pred_ans)\n",
        "            normalized_true_ans = [normalize_text(_) for _ in squad_eg.all_answers]\n",
        "            if normalized_pred_ans in normalized_true_ans:\n",
        "                count += 1\n",
        "        acc = count / len(self.y_eval[0])\n",
        "        print(f\"\\nepoch={epoch+1}, exact match score={acc:.2f}\")"
      ],
      "execution_count": null,
      "outputs": []
    },
    {
      "cell_type": "code",
      "metadata": {
        "id": "bWVlmzdPTg7O",
        "outputId": "b6df5d58-b67d-45ae-a443-1157100ea902",
        "colab": {
          "base_uri": "https://localhost:8080/",
          "height": 459
        }
      },
      "source": [
        "exact_match_callback = ExactMatch(x_eval, y_eval)\n",
        "history = model.fit(\n",
        "    x_train,\n",
        "    y_train,\n",
        "    epochs=epochs,\n",
        "    verbose=2,\n",
        "    batch_size=32,\n",
        "    callbacks=[exact_match_callback],\n",
        ")"
      ],
      "execution_count": null,
      "outputs": [
        {
          "output_type": "stream",
          "text": [
            "Epoch 1/5\n",
            "WARNING:tensorflow:Gradients do not exist for variables ['tf_bert_model_1/bert/pooler/dense/kernel:0', 'tf_bert_model_1/bert/pooler/dense/bias:0'] when minimizing the loss.\n",
            "WARNING:tensorflow:Gradients do not exist for variables ['tf_bert_model_1/bert/pooler/dense/kernel:0', 'tf_bert_model_1/bert/pooler/dense/bias:0'] when minimizing the loss.\n",
            "WARNING:tensorflow:Gradients do not exist for variables ['tf_bert_model_1/bert/pooler/dense/kernel:0', 'tf_bert_model_1/bert/pooler/dense/bias:0'] when minimizing the loss.\n",
            "WARNING:tensorflow:Gradients do not exist for variables ['tf_bert_model_1/bert/pooler/dense/kernel:0', 'tf_bert_model_1/bert/pooler/dense/bias:0'] when minimizing the loss.\n",
            "\n",
            "epoch=1, exact match score=0.26\n",
            "165/165 - 96s - loss: 3.2895 - activation_9_loss: 1.4414 - activation_10_loss: 1.8481\n",
            "Epoch 2/5\n",
            "\n",
            "epoch=2, exact match score=0.34\n",
            "165/165 - 93s - loss: 2.1251 - activation_9_loss: 0.9272 - activation_10_loss: 1.1980\n",
            "Epoch 3/5\n",
            "\n",
            "epoch=3, exact match score=0.42\n",
            "165/165 - 93s - loss: 1.3672 - activation_9_loss: 0.6012 - activation_10_loss: 0.7660\n",
            "Epoch 4/5\n",
            "\n",
            "epoch=4, exact match score=0.45\n",
            "165/165 - 93s - loss: 0.7705 - activation_9_loss: 0.3509 - activation_10_loss: 0.4195\n",
            "Epoch 5/5\n",
            "\n",
            "epoch=5, exact match score=0.46\n",
            "165/165 - 93s - loss: 0.4661 - activation_9_loss: 0.2192 - activation_10_loss: 0.2469\n"
          ],
          "name": "stdout"
        }
      ]
    },
    {
      "cell_type": "code",
      "metadata": {
        "id": "I0hYk8BXHuWQ",
        "colab": {
          "base_uri": "https://localhost:8080/",
          "height": 295
        },
        "outputId": "8848a0e4-6692-4097-e79f-3e7c91a23558"
      },
      "source": [
        "# This code is adapted from Geron figure 10-12.\n",
        "def learning_curves():\n",
        "  pd.DataFrame(history.history).plot()\n",
        "  plt.grid(True)\n",
        "  plt.xlabel('Epochs')\n",
        "  plt.title('Loss curves')\n",
        "  plt.gca().set_ylim(0,3.5)\n",
        "  plt.show()\n",
        "\n",
        "learning_curves()"
      ],
      "execution_count": null,
      "outputs": [
        {
          "output_type": "display_data",
          "data": {
            "image/png": "[encoded data removed]",
            "text/plain": [
              "<Figure size 432x288 with 1 Axes>"
            ]
          },
          "metadata": {
            "tags": [],
            "needs_background": "light"
          }
        }
      ]
    },
    {
      "cell_type": "code",
      "metadata": {
        "id": "N-Aza_gK_VPR",
        "colab": {
          "base_uri": "https://localhost:8080/",
          "height": 213
        },
        "outputId": "fb3cbb65-42ff-453e-b3fa-b0f15f927673"
      },
      "source": [
        "# Run with a validation split\n",
        "history = model.fit(\n",
        "    x_train,\n",
        "    y_train,\n",
        "    epochs=epochs,\n",
        "    verbose=2,\n",
        "    batch_size=64,\n",
        "    validation_split=0.2,\n",
        ")"
      ],
      "execution_count": null,
      "outputs": [
        {
          "output_type": "stream",
          "text": [
            "Epoch 1/5\n",
            "66/66 - 74s - loss: 0.2180 - activation_9_loss: 0.0995 - activation_10_loss: 0.1185 - val_loss: 0.0906 - val_activation_9_loss: 0.0463 - val_activation_10_loss: 0.0443\n",
            "Epoch 2/5\n",
            "66/66 - 71s - loss: 0.1167 - activation_9_loss: 0.0499 - activation_10_loss: 0.0668 - val_loss: 0.0936 - val_activation_9_loss: 0.0483 - val_activation_10_loss: 0.0453\n",
            "Epoch 3/5\n",
            "66/66 - 71s - loss: 0.0906 - activation_9_loss: 0.0405 - activation_10_loss: 0.0501 - val_loss: 0.0957 - val_activation_9_loss: 0.0393 - val_activation_10_loss: 0.0563\n",
            "Epoch 4/5\n",
            "66/66 - 71s - loss: 0.0683 - activation_9_loss: 0.0323 - activation_10_loss: 0.0361 - val_loss: 0.1022 - val_activation_9_loss: 0.0490 - val_activation_10_loss: 0.0532\n",
            "Epoch 5/5\n",
            "66/66 - 71s - loss: 0.0464 - activation_9_loss: 0.0205 - activation_10_loss: 0.0259 - val_loss: 0.1320 - val_activation_9_loss: 0.0602 - val_activation_10_loss: 0.0718\n"
          ],
          "name": "stdout"
        }
      ]
    },
    {
      "cell_type": "code",
      "metadata": {
        "id": "GOx8m23BZ8hx",
        "colab": {
          "base_uri": "https://localhost:8080/",
          "height": 295
        },
        "outputId": "f222dbcf-9568-479b-f4bb-8580f9e6a6a1"
      },
      "source": [
        "# This code is adapted from Geron figure 10-12.\n",
        "def learning_curves():\n",
        "  pd.DataFrame(history.history).plot()\n",
        "  plt.grid(True)\n",
        "  plt.xlabel('Epochs')\n",
        "  plt.title('Loss curves')\n",
        "  plt.gca().set_ylim(0,0.4)\n",
        "  plt.show()\n",
        "\n",
        "learning_curves()"
      ],
      "execution_count": null,
      "outputs": [
        {
          "output_type": "display_data",
          "data": {
            "image/png": "[encoded data removed]",
            "text/plain": [
              "<Figure size 432x288 with 1 Axes>"
            ]
          },
          "metadata": {
            "tags": [],
            "needs_background": "light"
          }
        }
      ]
    },
    {
      "cell_type": "markdown",
      "metadata": {
        "id": "xZCJpWSNDNVH"
      },
      "source": [
        "This figure suggests there could be some problem with overfitting the data. The validation loss curve actually increases over time, while the overall loss decreases. However, the validation loss for the activation layers decrease over epochs."
      ]
    },
    {
      "cell_type": "markdown",
      "metadata": {
        "id": "rItDVCajOC2c"
      },
      "source": [
        "# Final Solution"
      ]
    },
    {
      "cell_type": "code",
      "metadata": {
        "id": "NA8CIvUEOGBT"
      },
      "source": [
        "# Save the solution as a CSV file for Kaggle\n",
        "#pd.to_csv('filename.csv',index = False)\n",
        "#test_df[['textID','selected_text']].to_csv('submission.csv',index=False)"
      ],
      "execution_count": null,
      "outputs": []
    }
  ]
}