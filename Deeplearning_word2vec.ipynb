{
  "nbformat": 4,
  "nbformat_minor": 0,
  "metadata": {
    "colab": {
      "provenance": [],
      "authorship_tag": "ABX9TyMQrVfBUu1SOlBFdLcmWizy"
    },
    "kernelspec": {
      "name": "python3",
      "display_name": "Python 3"
    }
  },
  "cells": [
    {
      "cell_type": "markdown",
      "metadata": {
        "id": "6rSYQiSQlqmS"
      },
      "source": [
        "Task: explore word embedding using a pretrained word2vec model and explore the text\n",
        "Model: Google's pre-trained model trained on a Google News dataset\n",
        "\n",
        "&nbsp;\n",
        "\n",
        "Word2vec models are used for natural language processing. It converts text into numerical vectors that represent relationships among words. The model can identify similar words and suggest new words."
      ]
    },
    {
      "cell_type": "code",
      "metadata": {
        "id": "y1lIqjxVk9D6"
      },
      "source": [
        "import numpy as np\n",
        "from gensim.models import Word2Vec"
      ],
      "execution_count": null,
      "outputs": []
    },
    {
      "cell_type": "markdown",
      "metadata": {
        "id": "Xp__6sxiyqUk"
      },
      "source": [
        "# Download and run Word2Vec model"
      ]
    },
    {
      "cell_type": "code",
      "metadata": {
        "id": "mtOqXNz_vG9v",
        "outputId": "ee26ae18-ca3d-4da6-9c65-97a115e336bc",
        "colab": {
          "base_uri": "https://localhost:8080/",
          "height": 265
        }
      },
      "source": [
        "# Use Google's pre-trained model containing\n",
        "# word vectors for a vocabulary of 3 million words\n",
        "!wget -P /root/input/ -c \"https://s3.amazonaws.com/dl4j-distribution/GoogleNews-vectors-negative300.bin.gz\"\n",
        "model = KeyedVectors.load_word2vec_format('/root/input/GoogleNews-vectors-negative300.bin.gz',\n",
        "                                          binary=True)"
      ],
      "execution_count": null,
      "outputs": [
        {
          "output_type": "stream",
          "text": [
            "--2020-05-11 03:26:58--  https://s3.amazonaws.com/dl4j-distribution/GoogleNews-vectors-negative300.bin.gz\n",
            "Resolving s3.amazonaws.com (s3.amazonaws.com)... 52.216.8.37\n",
            "Connecting to s3.amazonaws.com (s3.amazonaws.com)|52.216.8.37|:443... connected.\n",
            "HTTP request sent, awaiting response... 200 OK\n",
            "Length: 1647046227 (1.5G) [application/x-gzip]\n",
            "Saving to: ‘/root/input/GoogleNews-vectors-negative300.bin.gz’\n",
            "\n",
            "GoogleNews-vectors- 100%[===================>]   1.53G  47.7MB/s    in 34s     \n",
            "\n",
            "2020-05-11 03:27:33 (46.2 MB/s) - ‘/root/input/GoogleNews-vectors-negative300.bin.gz’ saved [1647046227/1647046227]\n",
            "\n"
          ],
          "name": "stdout"
        },
        {
          "output_type": "stream",
          "text": [
            "/usr/local/lib/python3.6/dist-packages/smart_open/smart_open_lib.py:253: UserWarning: This function is deprecated, use smart_open.open instead. See the migration notes for details: https://github.com/RaRe-Technologies/smart_open/blob/master/README.rst#migrating-to-the-new-open-function\n",
            "  'See the migration notes for details: %s' % _MIGRATION_NOTES_URL\n"
          ],
          "name": "stderr"
        }
      ]
    },
    {
      "cell_type": "markdown",
      "metadata": {
        "id": "tUP5G2EsylPv"
      },
      "source": [
        "# Explore the Word2Vec model"
      ]
    },
    {
      "cell_type": "code",
      "metadata": {
        "id": "AcdiBOGuzfoA",
        "outputId": "364088b0-1fac-4504-ceca-32440e0b6390",
        "colab": {
          "base_uri": "https://localhost:8080/",
          "height": 34
        }
      },
      "source": [
        "# See how a word is stored\n",
        "model[\"sunflower\"].shape"
      ],
      "execution_count": null,
      "outputs": [
        {
          "output_type": "execute_result",
          "data": {
            "text/plain": [
              "(300,)"
            ]
          },
          "metadata": {
            "tags": []
          },
          "execution_count": 17
        }
      ]
    },
    {
      "cell_type": "code",
      "metadata": {
        "id": "JY8Sz5aZzrwE",
        "outputId": "aabb1a68-b9d4-4fb7-9145-45c8ea5215a6",
        "colab": {
          "base_uri": "https://localhost:8080/",
          "height": 105
        }
      },
      "source": [
        "flower = model[\"sunflower\"]\n",
        "flower[:20]"
      ],
      "execution_count": null,
      "outputs": [
        {
          "output_type": "execute_result",
          "data": {
            "text/plain": [
              "array([ 0.02429199,  0.15722656, -0.15722656,  0.27539062, -0.00074387,\n",
              "        0.08740234,  0.31640625, -0.37304688, -0.23828125, -0.09375   ,\n",
              "        0.22460938, -0.00619507, -0.31445312,  0.16894531, -0.2265625 ,\n",
              "        0.22265625, -0.28125   , -0.14453125, -0.24511719, -0.19628906],\n",
              "      dtype=float32)"
            ]
          },
          "metadata": {
            "tags": []
          },
          "execution_count": 19
        }
      ]
    },
    {
      "cell_type": "code",
      "metadata": {
        "id": "_ONCYfwKnns-",
        "outputId": "3fb8d57a-0ade-4b31-999b-1930c6decdf7",
        "colab": {
          "base_uri": "https://localhost:8080/",
          "height": 125
        }
      },
      "source": [
        "# Identify the one that doesn't fit with the others\n",
        "print(model.doesnt_match(\"sunflower daffodil tulip apple\".split()))"
      ],
      "execution_count": null,
      "outputs": [
        {
          "output_type": "stream",
          "text": [
            "apple\n"
          ],
          "name": "stdout"
        },
        {
          "output_type": "stream",
          "text": [
            "/usr/local/lib/python3.6/dist-packages/gensim/models/keyedvectors.py:895: FutureWarning: arrays to stack must be passed as a \"sequence\" type such as list or tuple. Support for non-sequence iterables such as generators is deprecated as of NumPy 1.16 and will raise an error in the future.\n",
            "  vectors = vstack(self.word_vec(word, use_norm=True) for word in used_words).astype(REAL)\n",
            "/usr/local/lib/python3.6/dist-packages/gensim/matutils.py:737: FutureWarning: Conversion of the second argument of issubdtype from `int` to `np.signedinteger` is deprecated. In future, it will be treated as `np.int64 == np.dtype(int).type`.\n",
            "  if np.issubdtype(vec.dtype, np.int):\n"
          ],
          "name": "stderr"
        }
      ]
    },
    {
      "cell_type": "code",
      "metadata": {
        "id": "psurS_BFyOxQ"
      },
      "source": [
        "# See how similar some words are with cosine similarity\n",
        "def cos(x1, x2):\n",
        "  return np.dot(x1, x2)/(np.linalg.norm(x1)*np.linalg.norm(x2))"
      ],
      "execution_count": null,
      "outputs": []
    },
    {
      "cell_type": "code",
      "metadata": {
        "id": "d4FG7Pha0cuO",
        "outputId": "f9e30a62-0488-4eed-f4e0-0ae7e3190ceb",
        "colab": {
          "base_uri": "https://localhost:8080/",
          "height": 122
        }
      },
      "source": [
        "sim_list = [\"shoe\", \"seed\", \"summer\", \"Russia\", \"field\", \"tulip\"]\n",
        "for item in sim_list:\n",
        "  cosine = cos(model[\"sunflower\"], model[item])\n",
        "  print(item, cosine)"
      ],
      "execution_count": null,
      "outputs": [
        {
          "output_type": "stream",
          "text": [
            "shoe 0.11981987\n",
            "seed 0.3215817\n",
            "summer 0.124193534\n",
            "Russia 0.15463871\n",
            "field 0.17019258\n",
            "tulip 0.4554099\n"
          ],
          "name": "stdout"
        }
      ]
    },
    {
      "cell_type": "code",
      "metadata": {
        "id": "PXt_yEDy4Qa7",
        "outputId": "5eef9a35-3302-4219-efee-4e67784ac102",
        "colab": {
          "base_uri": "https://localhost:8080/",
          "height": 90
        }
      },
      "source": [
        "# Checking to see if the built-in similarity function\n",
        "# measures the cosine distance\n",
        "model.similarity(\"sunflower\", \"shoe\")"
      ],
      "execution_count": null,
      "outputs": [
        {
          "output_type": "stream",
          "text": [
            "/usr/local/lib/python3.6/dist-packages/gensim/matutils.py:737: FutureWarning: Conversion of the second argument of issubdtype from `int` to `np.signedinteger` is deprecated. In future, it will be treated as `np.int64 == np.dtype(int).type`.\n",
            "  if np.issubdtype(vec.dtype, np.int):\n"
          ],
          "name": "stderr"
        },
        {
          "output_type": "execute_result",
          "data": {
            "text/plain": [
              "0.119819865"
            ]
          },
          "metadata": {
            "tags": []
          },
          "execution_count": 41
        }
      ]
    },
    {
      "cell_type": "code",
      "metadata": {
        "id": "9X1gMfSu0kR1",
        "outputId": "891610b3-66cc-43f0-f019-ee5cffbe8618",
        "colab": {
          "base_uri": "https://localhost:8080/",
          "height": 90
        }
      },
      "source": [
        "# Subtract a word from another and see what it computes\n",
        "print(model.most_similar(positive=[\"bathroom\", \"house\"], negative=[\"plumbing\"]))"
      ],
      "execution_count": null,
      "outputs": [
        {
          "output_type": "stream",
          "text": [
            "/usr/local/lib/python3.6/dist-packages/gensim/matutils.py:737: FutureWarning: Conversion of the second argument of issubdtype from `int` to `np.signedinteger` is deprecated. In future, it will be treated as `np.int64 == np.dtype(int).type`.\n",
            "  if np.issubdtype(vec.dtype, np.int):\n"
          ],
          "name": "stderr"
        },
        {
          "output_type": "stream",
          "text": [
            "[('bedroom', 0.6368428468704224), ('apartment', 0.5885869264602661), ('downstairs', 0.5605745315551758), ('bungalow', 0.5511777997016907), ('upstairs', 0.5315183401107788), ('bedroom_closet', 0.525002121925354), ('master_bedroom', 0.522892951965332), ('room', 0.5209600329399109), ('upstairs_bedroom', 0.5163935422897339), ('residence', 0.5078557133674622)]\n"
          ],
          "name": "stdout"
        }
      ]
    },
    {
      "cell_type": "markdown",
      "metadata": {
        "id": "8YfC3SMe2Rm2"
      },
      "source": [
        "In the example above, I was wondering if something like an outhouse or some form of bathroom with no running water would appear. Even though my guess was wrong, rooms that don't require plumbing are similar, which makes sense!"
      ]
    },
    {
      "cell_type": "code",
      "metadata": {
        "id": "vb8txc2x2peN",
        "outputId": "4b0f5dc5-6ac9-4b17-bba3-48d573982490",
        "colab": {
          "base_uri": "https://localhost:8080/",
          "height": 90
        }
      },
      "source": [
        "# Now just see which words are most similar\n",
        "print(model.most_similar(positive=[\"bathroom\", \"house\"]))"
      ],
      "execution_count": null,
      "outputs": [
        {
          "output_type": "stream",
          "text": [
            "/usr/local/lib/python3.6/dist-packages/gensim/matutils.py:737: FutureWarning: Conversion of the second argument of issubdtype from `int` to `np.signedinteger` is deprecated. In future, it will be treated as `np.int64 == np.dtype(int).type`.\n",
            "  if np.issubdtype(vec.dtype, np.int):\n"
          ],
          "name": "stderr"
        },
        {
          "output_type": "stream",
          "text": [
            "[('bedroom', 0.7594819068908691), ('apartment', 0.6780744791030884), ('downstairs', 0.6750791668891907), ('kitchen', 0.6735259294509888), ('upstairs', 0.651906430721283), ('master_bedroom', 0.6405231952667236), ('upstairs_bedrooms', 0.6232052445411682), ('bungalow', 0.6175016164779663), ('upstairs_bedroom', 0.613165557384491), ('basement', 0.6107905507087708)]\n"
          ],
          "name": "stdout"
        }
      ]
    },
    {
      "cell_type": "markdown",
      "metadata": {
        "id": "ptDSlM4W3tR2"
      },
      "source": [
        "Here I see that taking the example I came up with for taking the negative actually returns very similar output to just returning similar words. This makes me think that my example was not a good one necessarily."
      ]
    },
    {
      "cell_type": "code",
      "metadata": {
        "id": "epk9S4yF1SLq",
        "outputId": "44b0d4c5-5bd6-42da-8841-0023f20889c5",
        "colab": {
          "base_uri": "https://localhost:8080/",
          "height": 193
        }
      },
      "source": [
        "# See words that are closer to the first word\n",
        "# than the second word is to the first word\n",
        "model.words_closer_than(\"car\", \"driver\")[:10]"
      ],
      "execution_count": null,
      "outputs": [
        {
          "output_type": "execute_result",
          "data": {
            "text/plain": [
              "['vehicle',\n",
              " 'cars',\n",
              " 'vehicles',\n",
              " 'truck',\n",
              " 'bike',\n",
              " 'van',\n",
              " 'motorcycle',\n",
              " 'Car',\n",
              " 'SUV',\n",
              " 'BMW']"
            ]
          },
          "metadata": {
            "tags": []
          },
          "execution_count": 44
        }
      ]
    }
  ]
}